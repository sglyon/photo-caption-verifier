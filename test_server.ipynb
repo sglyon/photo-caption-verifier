{
    "cells": [
        {
            "cell_type": "markdown",
            "metadata": {},
            "source": [
                "# Test Photo Caption Verifier API\n",
                "\n",
                "This notebook demonstrates how to use the Photo Caption Verifier API endpoint."
            ]
        },
        {
            "cell_type": "code",
            "execution_count": 5,
            "metadata": {},
            "outputs": [
                {
                    "name": "stdout",
                    "output_type": "stream",
                    "text": [
                        "Status Code: 200\n",
                        "Response:\n",
                        "{\n",
                        "  \"verification\": \"correct\",\n",
                        "  \"model\": \"gpt-4o-2024-08-06\",\n",
                        "  \"created\": 1743548799,\n",
                        "  \"usage\": {\n",
                        "    \"completion_tokens\": 2,\n",
                        "    \"prompt_tokens\": 815,\n",
                        "    \"total_tokens\": 817,\n",
                        "    \"completion_tokens_details\": {\n",
                        "      \"accepted_prediction_tokens\": 0,\n",
                        "      \"audio_tokens\": 0,\n",
                        "      \"reasoning_tokens\": 0,\n",
                        "      \"rejected_prediction_tokens\": 0\n",
                        "    },\n",
                        "    \"prompt_tokens_details\": {\n",
                        "      \"audio_tokens\": 0,\n",
                        "      \"cached_tokens\": 0\n",
                        "    }\n",
                        "  }\n",
                        "}\n"
                    ]
                }
            ],
            "source": [
                "import requests\n",
                "import json\n",
                "\n",
                "# API endpoint\n",
                "url = \"http://217.79.255.10:8000/verify\"\n",
                "\n",
                "# Test data\n",
                "files = {\n",
                "    'image': ('mountains.jpg', open('mountains.jpg', 'rb'), 'image/jpeg')\n",
                "}\n",
                "\n",
                "data = {\n",
                "    'caption': 'A beautiful sunset over mountains',\n",
                "    'instructions': 'Please check if the colors and composition match the caption. Your response must start with `correct` or `incorrect`.'\n",
                "}\n",
                "\n",
                "# Make the request\n",
                "response = requests.post(url, files=files, data=data)\n",
                "\n",
                "# Print the response\n",
                "print(f\"Status Code: {response.status_code}\")\n",
                "print(\"Response:\")\n",
                "print(json.dumps(response.json(), indent=2))"
            ]
        },
        {
            "cell_type": "code",
            "execution_count": null,
            "metadata": {},
            "outputs": [],
            "source": []
        }
    ],
    "metadata": {
        "kernelspec": {
            "display_name": "Python 3",
            "language": "python",
            "name": "python3"
        },
        "language_info": {
            "codemirror_mode": {
                "name": "ipython",
                "version": 3
            },
            "file_extension": ".py",
            "mimetype": "text/x-python",
            "name": "python",
            "nbconvert_exporter": "python",
            "pygments_lexer": "ipython3",
            "version": "3.12.7"
        }
    },
    "nbformat": 4,
    "nbformat_minor": 4
}
